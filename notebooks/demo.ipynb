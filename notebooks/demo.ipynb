{
 "cells": [
  {
   "metadata": {
    "ExecuteTime": {
     "end_time": "2024-09-21T22:56:57.948281Z",
     "start_time": "2024-09-21T22:56:57.945220Z"
    }
   },
   "cell_type": "code",
   "source": [
    "import mysql.connector\n",
    "import openai\n",
    "from dotenv import load_dotenv\n",
    "import os\n",
    "import logging\n",
    "import time\n",
    "from functools import wraps\n",
    "from pathlib import Path "
   ],
   "id": "8d2f87a42c403786",
   "outputs": [],
   "execution_count": 12
  },
  {
   "cell_type": "code",
   "id": "initial_id",
   "metadata": {
    "collapsed": true,
    "ExecuteTime": {
     "end_time": "2024-09-21T22:56:58.423420Z",
     "start_time": "2024-09-21T22:56:58.418897Z"
    }
   },
   "source": [
    "# Configurar logging\n",
    "logging.basicConfig(level=logging.INFO, format='%(asctime)s - %(levelname)s - %(message)s')\n",
    "\n",
    "# Specify the path to .env file in the project root\n",
    "env_path = Path('../.env')\n",
    "load_dotenv(dotenv_path=env_path)\n",
    "\n",
    "\n",
    "# Check if the environment variables are loaded\n",
    "db_name = os.getenv('DB_NAME')\n",
    "print(f\"Database Name: {db_name}\")\n",
    "\n",
    "if db_name is None:\n",
    "    print(\"Error: Could not load .env file or DB_NAME is not defined\")\n",
    "else:\n",
    "    print(f\"Loaded database name: {db_name}\")\n",
    "\n",
    "# Decorador para medir el tiempo de ejecución de las funciones\n",
    "def time_execution(func):\n",
    "    @wraps(func)\n",
    "    def wrapper(*args, **kwargs):\n",
    "        start_time = time.time()\n",
    "        result = func(*args, **kwargs)\n",
    "        end_time = time.time()\n",
    "        execution_time = end_time - start_time\n",
    "        logging.info(f\"Function '{func.__name__}' executed in {execution_time:.4f} seconds\")\n",
    "        return result\n",
    "    return wrapper\n",
    "\n",
    "# Decorador para capturar excepciones y registrarlas\n",
    "def log_exceptions(func):\n",
    "    @wraps(func)\n",
    "    def wrapper(*args, **kwargs):\n",
    "        try:\n",
    "            return func(*args, **kwargs)\n",
    "        except Exception as e:\n",
    "            logging.error(f\"Error occurred in function '{func.__name__}': {e}\")\n",
    "            raise e\n",
    "    return wrapper"
   ],
   "outputs": [
    {
     "name": "stdout",
     "output_type": "stream",
     "text": [
      "Database Name: CustomerSales\n",
      "Loaded database name: CustomerSales\n"
     ]
    }
   ],
   "execution_count": 13
  },
  {
   "metadata": {
    "ExecuteTime": {
     "end_time": "2024-09-21T22:56:59.037462Z",
     "start_time": "2024-09-21T22:56:59.034236Z"
    }
   },
   "cell_type": "code",
   "source": [
    "# Clase para gestionar la conexión a MySQL\n",
    "class MySQLDatabase:\n",
    "    def __init__(self):\n",
    "        self.host = os.getenv('DB_HOST')\n",
    "        self.user = os.getenv('DB_USER')\n",
    "        self.password = os.getenv('DB_PASSWORD')\n",
    "        self.database = os.getenv('DB_NAME')\n",
    "        self.port = os.getenv('DB_PORT')\n",
    "        self.connection = None\n",
    "\n",
    "    @log_exceptions\n",
    "    @time_execution\n",
    "    def connect(self):\n",
    "        logging.info(\"Connecting to MySQL database...\")\n",
    "        self.connection = mysql.connector.connect(\n",
    "            host=self.host,\n",
    "            user=self.user,\n",
    "            password=self.password,\n",
    "            database=self.database,\n",
    "            port=self.port\n",
    "        )\n",
    "        logging.info(\"Successfully connected to the database.\")\n",
    "\n",
    "    @log_exceptions\n",
    "    @time_execution\n",
    "    def execute_query(self, query):\n",
    "        if self.connection is None:\n",
    "            self.connect()\n",
    "        logging.info(f\"Executing query: {query}\")\n",
    "        cursor = self.connection.cursor()\n",
    "        cursor.execute(query)\n",
    "        result = cursor.fetchall()\n",
    "        logging.info(\"Query executed successfully.\")\n",
    "        return result\n",
    "\n",
    "    @log_exceptions\n",
    "    @time_execution\n",
    "    def close(self):\n",
    "        if self.connection:\n",
    "            self.connection.close()\n",
    "            logging.info(\"Connection closed.\")"
   ],
   "id": "bfa543b8718099d1",
   "outputs": [],
   "execution_count": 14
  },
  {
   "metadata": {
    "ExecuteTime": {
     "end_time": "2024-09-21T22:56:59.581386Z",
     "start_time": "2024-09-21T22:56:59.578979Z"
    }
   },
   "cell_type": "code",
   "source": [
    "# Crear instancia de la base de datos\n",
    "db = MySQLDatabase()"
   ],
   "id": "bfd423cfee3f3f71",
   "outputs": [],
   "execution_count": 15
  },
  {
   "metadata": {
    "ExecuteTime": {
     "end_time": "2024-09-21T22:57:00.068893Z",
     "start_time": "2024-09-21T22:57:00.049538Z"
    }
   },
   "cell_type": "code",
   "source": [
    "# Conectar a la base de datos\n",
    "db.connect()"
   ],
   "id": "cbc3a00d3c606088",
   "outputs": [
    {
     "name": "stderr",
     "output_type": "stream",
     "text": [
      "2024-09-22 00:57:00,050 - INFO - Connecting to MySQL database...\n",
      "2024-09-22 00:57:00,066 - INFO - Successfully connected to the database.\n",
      "2024-09-22 00:57:00,067 - INFO - Function 'connect' executed in 0.0169 seconds\n"
     ]
    }
   ],
   "execution_count": 16
  },
  {
   "metadata": {
    "ExecuteTime": {
     "end_time": "2024-09-21T22:57:00.618047Z",
     "start_time": "2024-09-21T22:57:00.609972Z"
    }
   },
   "cell_type": "code",
   "source": [
    "# ejecutar una consulta SQL\n",
    "query = \"SELECT * FROM ClientesVentas LIMIT 5;\"\n",
    "result = db.execute_query(query)\n",
    "print(result)"
   ],
   "id": "e680b97f3bbebe20",
   "outputs": [
    {
     "name": "stderr",
     "output_type": "stream",
     "text": [
      "2024-09-22 00:57:00,610 - INFO - Executing query: SELECT * FROM ClientesVentas LIMIT 5;\n",
      "2024-09-22 00:57:00,616 - INFO - Query executed successfully.\n",
      "2024-09-22 00:57:00,616 - INFO - Function 'execute_query' executed in 0.0059 seconds\n"
     ]
    },
    {
     "name": "stdout",
     "output_type": "stream",
     "text": [
      "[(1, 'Juan', 'Pérez', 35, 'Apple', Decimal('1200.50')), (2, 'Ana', 'García', 28, 'Samsung', Decimal('950.75')), (3, 'Luis', 'Martínez', 42, 'Sony', Decimal('560.00')), (4, 'Carmen', 'Fernández', 30, 'LG', Decimal('1340.10')), (5, 'Pedro', 'López', 45, 'Apple', Decimal('2500.00'))]\n"
     ]
    }
   ],
   "execution_count": 17
  },
  {
   "metadata": {
    "ExecuteTime": {
     "end_time": "2024-09-21T22:57:01.712427Z",
     "start_time": "2024-09-21T22:57:01.707798Z"
    }
   },
   "cell_type": "code",
   "source": [
    "from openai import OpenAI\n",
    "import os\n",
    "\n",
    "class NaturalLanguageToSQL:\n",
    "    def __init__(self):\n",
    "        self.client = openai.OpenAI(api_key=os.getenv('OPENAI_API_KEY'))\n",
    "\n",
    "    def translate(self, natural_language_query):\n",
    "        messages = [\n",
    "            {\"role\": \"system\", \"content\": \"Eres un asistente que traduce consultas en lenguaje natural a SQL usando la tabla ClientesVentas, que contiene las columnas: id, nombre, apellidos, edad, marca_producto e importe_vendido.\"},\n",
    "            {\"role\": \"user\", \"content\": natural_language_query}\n",
    "        ]\n",
    "        response = self.client.chat.completions.create(\n",
    "            model=\"gpt-4o-mini\",\n",
    "            messages=messages,\n",
    "            max_tokens=100,\n",
    "            temperature=0\n",
    "        )\n",
    "        sql_query = response.choices[0].message.content.strip()\n",
    "    \n",
    "        # Limpiar la consulta eliminando caracteres innecesarios\n",
    "        if sql_query.startswith(\"```sql\"):\n",
    "            sql_query = sql_query[5:]\n",
    "        if sql_query.endswith(\"```\"):\n",
    "            sql_query = sql_query[:-3]\n",
    "    \n",
    "        # Eliminar caracteres adicionales que puedan estar fuera de lugar\n",
    "        sql_query = sql_query.lstrip(\"l\").strip()  # Eliminar el 'l' al inicio de la consulta si aparece\n",
    "        \n",
    "        return sql_query.strip()"
   ],
   "id": "76c700086208712",
   "outputs": [],
   "execution_count": 18
  },
  {
   "metadata": {
    "ExecuteTime": {
     "end_time": "2024-09-21T22:57:02.905765Z",
     "start_time": "2024-09-21T22:57:02.901899Z"
    }
   },
   "cell_type": "code",
   "source": [
    "# Clase principal para gestionar el flujo completo\n",
    "class QueryProcessor:\n",
    "    def __init__(self):\n",
    "        self.db = MySQLDatabase()\n",
    "        self.nl_to_sql = NaturalLanguageToSQL()\n",
    "\n",
    "    @log_exceptions\n",
    "    @time_execution\n",
    "    def process_query(self, natural_language_query):\n",
    "        # 1. Convertir el lenguaje natural a SQL\n",
    "        sql_query = self.nl_to_sql.translate(natural_language_query)\n",
    "        logging.info(f\"SQL Query: {sql_query}\")\n",
    "        \n",
    "        # 2. Ejecutar la consulta SQL\n",
    "        result = self.db.execute_query(sql_query)\n",
    "        \n",
    "        # 3. Devolver el resultado y la consulta SQL generada\n",
    "        return {\"sql_query\": sql_query, \"result\": result}\n",
    "\n",
    "    @log_exceptions\n",
    "    @time_execution\n",
    "    def close(self):\n",
    "        # Cerrar la conexión a la base de datos\n",
    "        self.db.close()"
   ],
   "id": "ae3cefbd10334aa7",
   "outputs": [],
   "execution_count": 19
  },
  {
   "metadata": {
    "ExecuteTime": {
     "end_time": "2024-09-21T22:57:04.113761Z",
     "start_time": "2024-09-21T22:57:04.102449Z"
    }
   },
   "cell_type": "code",
   "source": [
    "# Crear instancia del procesador de consultas\n",
    "query_processor = QueryProcessor()"
   ],
   "id": "d9ab2de461ff944d",
   "outputs": [],
   "execution_count": 20
  },
  {
   "metadata": {
    "ExecuteTime": {
     "end_time": "2024-09-21T22:59:00.777649Z",
     "start_time": "2024-09-21T22:58:59.525779Z"
    }
   },
   "cell_type": "code",
   "source": [
    "# Your natural language query\n",
    "natural_language_query = \"Show me average importe_vendido of customers\"\n",
    "\n",
    "# Procesar la consulta\n",
    "result = query_processor.process_query(natural_language_query)\n",
    "print(result)"
   ],
   "id": "c0df1ef4c45f6b0c",
   "outputs": [
    {
     "name": "stderr",
     "output_type": "stream",
     "text": [
      "2024-09-22 00:59:00,696 - INFO - HTTP Request: POST https://api.openai.com/v1/chat/completions \"HTTP/1.1 200 OK\"\n",
      "2024-09-22 00:59:00,702 - INFO - SQL Query: SELECT AVG(importe_vendido) AS promedio_importe_vendido\n",
      "FROM ClientesVentas;\n",
      "2024-09-22 00:59:00,749 - INFO - Executing query: SELECT AVG(importe_vendido) AS promedio_importe_vendido\n",
      "FROM ClientesVentas;\n",
      "2024-09-22 00:59:00,772 - INFO - Query executed successfully.\n",
      "2024-09-22 00:59:00,773 - INFO - Function 'execute_query' executed in 0.0246 seconds\n",
      "2024-09-22 00:59:00,774 - INFO - Function 'process_query' executed in 1.2476 seconds\n"
     ]
    },
    {
     "name": "stdout",
     "output_type": "stream",
     "text": [
      "{'sql_query': 'SELECT AVG(importe_vendido) AS promedio_importe_vendido\\nFROM ClientesVentas;', 'result': [(Decimal('1126.453333'),)]}\n"
     ]
    }
   ],
   "execution_count": 23
  },
  {
   "metadata": {
    "ExecuteTime": {
     "end_time": "2024-09-21T22:59:38.703829Z",
     "start_time": "2024-09-21T22:59:38.700483Z"
    }
   },
   "cell_type": "code",
   "source": [
    "# Imprimir el resultado\n",
    "sql_query = result[\"sql_query\"]\n",
    "query_result = result[\"result\"]\n",
    "print(f\"SQL Query: {sql_query}\")\n",
    "print(f\"Query Result: {query_result}\")"
   ],
   "id": "cd98a28257265c82",
   "outputs": [
    {
     "name": "stdout",
     "output_type": "stream",
     "text": [
      "SQL Query: SELECT AVG(importe_vendido) AS promedio_importe_vendido\n",
      "FROM ClientesVentas;\n",
      "Query Result: [(Decimal('1126.453333'),)]\n"
     ]
    }
   ],
   "execution_count": 24
  },
  {
   "metadata": {
    "ExecuteTime": {
     "end_time": "2024-09-21T22:54:49.866080Z",
     "start_time": "2024-09-21T22:54:49.077717Z"
    }
   },
   "cell_type": "code",
   "source": [
    "# Your natural language query\n",
    "natural_language_query = \"Show me the names and surnames of customers older than 30 years and who sold more than 1000 euros.\"\n",
    "\n",
    "# Procesar la consulta\n",
    "result = query_processor.process_query(natural_language_query)\n",
    "print(result)"
   ],
   "id": "270b09a1d48c4ed8",
   "outputs": [
    {
     "name": "stderr",
     "output_type": "stream",
     "text": [
      "2024-09-22 00:54:49,842 - INFO - HTTP Request: POST https://api.openai.com/v1/chat/completions \"HTTP/1.1 200 OK\"\n",
      "2024-09-22 00:54:49,845 - INFO - SQL Query: SELECT nombre, apellidos \n",
      "FROM ClientesVentas \n",
      "WHERE edad > 30 AND importe_vendido > 1000;\n",
      "2024-09-22 00:54:49,846 - INFO - Connecting to MySQL database...\n",
      "2024-09-22 00:54:49,861 - INFO - Successfully connected to the database.\n",
      "2024-09-22 00:54:49,862 - INFO - Function 'connect' executed in 0.0160 seconds\n",
      "2024-09-22 00:54:49,862 - INFO - Executing query: SELECT nombre, apellidos \n",
      "FROM ClientesVentas \n",
      "WHERE edad > 30 AND importe_vendido > 1000;\n",
      "2024-09-22 00:54:49,864 - INFO - Query executed successfully.\n",
      "2024-09-22 00:54:49,864 - INFO - Function 'execute_query' executed in 0.0181 seconds\n",
      "2024-09-22 00:54:49,864 - INFO - Function 'process_query' executed in 0.7860 seconds\n"
     ]
    },
    {
     "name": "stdout",
     "output_type": "stream",
     "text": [
      "{'sql_query': 'SELECT nombre, apellidos \\nFROM ClientesVentas \\nWHERE edad > 30 AND importe_vendido > 1000;', 'result': [('Juan', 'Pérez'), ('Pedro', 'López'), ('Marta', 'Sánchez'), ('Isabel', 'Mendoza'), ('Carlos', 'Jiménez')]}\n"
     ]
    }
   ],
   "execution_count": 10
  },
  {
   "metadata": {
    "ExecuteTime": {
     "end_time": "2024-09-21T22:55:28.628029Z",
     "start_time": "2024-09-21T22:55:28.624651Z"
    }
   },
   "cell_type": "code",
   "source": [
    "# Imprimir el resultado\n",
    "sql_query = result[\"sql_query\"]\n",
    "query_result = result[\"result\"]\n",
    "print(f\"SQL Query: {sql_query}\")\n",
    "print(f\"Query Result: {query_result}\")"
   ],
   "id": "7fdd52fe9d9a4f70",
   "outputs": [
    {
     "name": "stdout",
     "output_type": "stream",
     "text": [
      "SQL Query: SELECT nombre, apellidos \n",
      "FROM ClientesVentas \n",
      "WHERE edad > 30 AND importe_vendido > 1000;\n",
      "Query Result: [('Juan', 'Pérez'), ('Pedro', 'López'), ('Marta', 'Sánchez'), ('Isabel', 'Mendoza'), ('Carlos', 'Jiménez')]\n"
     ]
    }
   ],
   "execution_count": 11
  },
  {
   "metadata": {
    "ExecuteTime": {
     "end_time": "2024-09-21T22:46:04.357017Z",
     "start_time": "2024-09-21T22:46:04.353481Z"
    }
   },
   "cell_type": "code",
   "source": [
    "# Cerrar la conexión\n",
    "query_processor.close()"
   ],
   "id": "abaf5f49892213ae",
   "outputs": [
    {
     "name": "stderr",
     "output_type": "stream",
     "text": [
      "2024-09-22 00:46:04,354 - INFO - Connection closed.\n",
      "2024-09-22 00:46:04,355 - INFO - Function 'close' executed in 0.0014 seconds\n",
      "2024-09-22 00:46:04,355 - INFO - Function 'close' executed in 0.0017 seconds\n"
     ]
    }
   ],
   "execution_count": 20
  }
 ],
 "metadata": {
  "kernelspec": {
   "display_name": "Python 3",
   "language": "python",
   "name": "python3"
  },
  "language_info": {
   "codemirror_mode": {
    "name": "ipython",
    "version": 2
   },
   "file_extension": ".py",
   "mimetype": "text/x-python",
   "name": "python",
   "nbconvert_exporter": "python",
   "pygments_lexer": "ipython2",
   "version": "2.7.6"
  }
 },
 "nbformat": 4,
 "nbformat_minor": 5
}
